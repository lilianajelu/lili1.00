{
 "cells": [
  {
   "cell_type": "markdown",
   "metadata": {},
   "source": [
    "# Exercise - Complete so that all Cells Work"
   ]
  },
  {
   "cell_type": "markdown",
   "metadata": {},
   "source": [
    "## Dictionary comprehensions review"
   ]
  },
  {
   "cell_type": "code",
   "execution_count": 8,
   "metadata": {},
   "outputs": [
    {
     "data": {
      "text/plain": [
       "{1: 14}"
      ]
     },
     "execution_count": 8,
     "metadata": {},
     "output_type": "execute_result"
    }
   ],
   "source": [
    "# dictionary comprehensions\n",
    "c = {0:1, 1:2, 2:3}\n",
    "d = {key: value*7  for key,value in c.items() if key == 1}\n",
    "d"
   ]
  },
  {
   "cell_type": "code",
   "execution_count": 9,
   "metadata": {},
   "outputs": [
    {
     "data": {
      "text/plain": [
       "({0: 3, 1: 6}, [3, 6])"
      ]
     },
     "execution_count": 9,
     "metadata": {},
     "output_type": "execute_result"
    }
   ],
   "source": [
    "# list comprehensions\n",
    "a = [1, 2, 3]\n",
    "r = [item*3  for item in a if item < 3]\n",
    "\n",
    "d = {index: item*3  for index, item in enumerate(a) if item < 3 }\n",
    "d , r"
   ]
  },
  {
   "cell_type": "markdown",
   "metadata": {},
   "source": [
    "## Data structures "
   ]
  },
  {
   "cell_type": "code",
   "execution_count": 10,
   "metadata": {},
   "outputs": [],
   "source": [
    "### warm up on nested dictionaries"
   ]
  },
  {
   "cell_type": "code",
   "execution_count": 11,
   "metadata": {},
   "outputs": [
    {
     "name": "stdout",
     "output_type": "stream",
     "text": [
      "{'name': 'John', 'age': '27', 'sex': 'Male'}\n",
      "{1: {'name': 'Fred', 'age': '27', 'sex': 'Male'}, 2: {'name': 'Marie', 'age': '22', 'sex': 'Female'}, 3: {'name': 'John', 'age': '27', 'sex': 'Male'}}\n"
     ]
    }
   ],
   "source": [
    "p1 = {'name': 'John', 'age': '27', 'sex': 'Male'}\n",
    "p2 = {'name': 'Marie', 'age': '22', 'sex': 'Female'}\n",
    "people = {1: {'name': 'John', 'age': '27', 'sex': 'Male'},\n",
    "          2: {'name': 'Marie', 'age': '22', 'sex': 'Female'},\n",
    "          3: p1}\n",
    "\n",
    "person = people[1]\n",
    "print(person)\n",
    "person['name'] = 'Fred'\n",
    "print(people)\n"
   ]
  },
  {
   "cell_type": "markdown",
   "metadata": {},
   "source": [
    "###  flat file using unique keys"
   ]
  },
  {
   "cell_type": "code",
   "execution_count": 12,
   "metadata": {},
   "outputs": [],
   "source": [
    "# db is a dictionary of lists named {students: [], psets: [], grades: []}\n",
    "def empty():\n",
    "    return {\"students\": [],\n",
    "            \"psets\": [],\n",
    "            \"grades\": []}\n",
    "# Add a new student to the database.\n",
    "def addStudent(db, student_id, student_name):   # students is a list of \n",
    "    db[\"students\"].append({\"id\": student_id,\n",
    "                           \"name\": student_name})\n",
    "# Add a new pset to the database.\n",
    "def addPset(db, pset_id, pset_total_points):\n",
    "    db[\"psets\"].append({\"id\": pset_id,\n",
    "                        \"points\": pset_total_points})\n",
    "# Record a student's grade on a pset.\n",
    "def addGrade(db, student_id, pset_id, points):\n",
    "    db[\"grades\"].append({\"student\": student_id,\n",
    "                         \"pset\": pset_id,\n",
    "                         \"points\": points})\n",
    "db = empty()"
   ]
  },
  {
   "cell_type": "code",
   "execution_count": 13,
   "metadata": {},
   "outputs": [
    {
     "name": "stdout",
     "output_type": "stream",
     "text": [
      "{'students': [], 'psets': [], 'grades': []}\n"
     ]
    }
   ],
   "source": [
    "print(db)"
   ]
  },
  {
   "cell_type": "code",
   "execution_count": 14,
   "metadata": {},
   "outputs": [
    {
     "name": "stdout",
     "output_type": "stream",
     "text": [
      "{'students': [{'id': 1, 'name': 'Alice'}, {'id': 2, 'name': 'Bob'}, {'id': 3, 'name': 'Charlie'}], 'psets': [{'id': 1, 'points': 10}, {'id': 2, 'points': 20}, {'id': 3, 'points': 30}], 'grades': [{'student': 1, 'pset': 1, 'points': 10}, {'student': 1, 'pset': 2, 'points': 18}, {'student': 1, 'pset': 3, 'points': 25}, {'student': 2, 'pset': 3, 'points': 15}, {'student': 3, 'pset': 3, 'points': 10}]}\n"
     ]
    }
   ],
   "source": [
    "# add data to db\n",
    "addStudent(db, 1, \"Alice\")\n",
    "addStudent(db, 2, \"Bob\")\n",
    "addStudent(db, 3, \"Charlie\")\n",
    "\n",
    "addPset(db, 1, 10)\n",
    "addPset(db, 2, 20)\n",
    "addPset(db, 3, 30)\n",
    "\n",
    "addGrade(db, 1, 1, 10)\n",
    "addGrade(db, 1, 2, 18)\n",
    "addGrade(db, 1, 3, 25)\n",
    "addGrade(db, 2, 3, 15)\n",
    "addGrade(db, 3, 3, 10)\n",
    "print(db)"
   ]
  },
  {
   "cell_type": "code",
   "execution_count": 15,
   "metadata": {},
   "outputs": [
    {
     "name": "stdout",
     "output_type": "stream",
     "text": [
      "{'grade': 15}\n"
     ]
    }
   ],
   "source": [
    "mydb = {'students': [{'id': 1, 'name': 'Alice'}, \n",
    "              {'id': 2, 'name': 'Bob'}, \n",
    "              {'id': 3, 'name': 'Charlie'}], \n",
    " 'psets': [{'id': 1, 'points': 10}, \n",
    "           {'id': 2, 'points': 20}, \n",
    "           {'id': 3, 'points': 30}], \n",
    " 'grades': [{'student': 1, 'pset': 1, 'points': 10}, \n",
    "            {'student': 1, 'pset': 2, 'points': 18}, \n",
    "            {'student': 1, 'pset': 3, 'points': 25}, \n",
    "            {'student': 2, 'pset': 3, 'points': 15}, \n",
    "            {'student': 3, 'pset': 3, 'points': 10}]}\n",
    "\n",
    "# get a student's grade for a given pset\n",
    "def getGrade(student_id, pset_id):\n",
    "    return {\"grade\": row[\"points\"] for row in mydb[\"grades\"] \n",
    "            if row[\"student\"] == student_id and row[\"pset\"] == pset_id}\n",
    "\n",
    "print(getGrade(2, 3))"
   ]
  },
  {
   "cell_type": "markdown",
   "metadata": {},
   "source": [
    "### Look up a student name by Id and print\n",
    "### Notice the use of comprehension"
   ]
  },
  {
   "cell_type": "code",
   "execution_count": 16,
   "metadata": {},
   "outputs": [
    {
     "name": "stdout",
     "output_type": "stream",
     "text": [
      "{'name': 'Bob'}\n"
     ]
    }
   ],
   "source": [
    "student_id = 2   # this search is O(N)\n",
    "print({\"name\": s['name'] for s in db['students'] if s[\"id\"] == student_id})"
   ]
  },
  {
   "cell_type": "code",
   "execution_count": 17,
   "metadata": {},
   "outputs": [
    {
     "name": "stdout",
     "output_type": "stream",
     "text": [
      "{'Alice': 25, 'Bob': 15, 'Charlie': 10}\n"
     ]
    }
   ],
   "source": [
    "# Return all grades on a pset, as a dictionary from student names to grades.\n",
    "# Notice that we're making it interesting by working with student names instead of IDs.\n",
    "# The grades table doesn't include student names directly!\n",
    "def gradesOnPset(db, pset_id):\n",
    "    return {student[\"name\"]: grade[\"points\"]\n",
    "            for grade in db[\"grades\"] if grade['pset'] == pset_id          # COMPLETE THIS\n",
    "            ## if grade corresponds to pset id\n",
    "            for student in db[\"students\"] if student['id'] == grade['student']}   # COMPLETE THIS\n",
    "            ## first looked for grade corresponding to the pset id and then matched the student grade with id\n",
    "print(gradesOnPset(db,3))"
   ]
  },
  {
   "cell_type": "code",
   "execution_count": 18,
   "metadata": {},
   "outputs": [
    {
     "name": "stdout",
     "output_type": "stream",
     "text": [
      "[{'id': 1, 'name': 'Alice', 'grade': 91.1}, {'id': 2, 'name': 'Bob', 'grade': 16.7}, {'id': 3, 'name': 'Charlie', 'grade': 11.1}]\n"
     ]
    }
   ],
   "source": [
    "# A small wrapper to give us a succinct way to express a lookup of a single value,\n",
    "# comprehension-style! \n",
    "def one(gen):                   # this expects a generator, gets the next one or returns None\n",
    "    return next(gen, None)\n",
    "\n",
    "# To start with, let's implement a version of studentGrades that:\n",
    "# (1) includes zeroes for missing grades,\n",
    "# (2) divides by the point total for each pset, and\n",
    "# (3) returns a list of scores.\n",
    "# One more helper function is useful first.\n",
    "# Which grade did this student get on this pset?  (Returns None if no grade has been\n",
    "# recorded.)\n",
    "\n",
    "def gradeOn(db, student_id, pset_id):\n",
    "    return one(grade[\"points\"]\n",
    "               for grade in db[\"grades\"]\n",
    "               if grade[\"student\"] == student_id\n",
    "               if grade[\"pset\"] == pset_id)\n",
    "\n",
    "def gradeOnWeighted(db, student_id, pset):\n",
    "    grade = gradeOn(db, student_id, pset[\"id\"])\n",
    "    if grade == None:\n",
    "        return 0\n",
    "    else:\n",
    "        return grade * 1.0 / pset[\"points\"]\n",
    "        \n",
    "def studentGradesWeighted(db, student_id):\n",
    "    return [gradeOnWeighted(db, student_id, pset) for pset in db[\"psets\"]]\n",
    "\n",
    "# Next, computing the final grade of a student.\n",
    "def finalGradeOf(db, student_id):\n",
    "    grades = studentGradesWeighted(db, student_id)\n",
    "    return round(sum(grades) / len(grades) * 100, 1)\n",
    "\n",
    "# Finally, computing for all students.\n",
    "def finalGrades(db):\n",
    "    return [{\"id\": student[\"id\"],\"name\": student[\"name\"],\"grade\": finalGradeOf(db, student[\"id\"])} for student in db[\"students\"]]\n",
    "\n",
    "print(finalGrades(db))"
   ]
  },
  {
   "cell_type": "markdown",
   "metadata": {},
   "source": [
    "# Using Dictionaries"
   ]
  },
  {
   "cell_type": "code",
   "execution_count": 30,
   "metadata": {},
   "outputs": [
    {
     "data": {
      "text/plain": [
       "{'students': {}, 'psets': {}, 'grades': {}}"
      ]
     },
     "execution_count": 30,
     "metadata": {},
     "output_type": "execute_result"
    }
   ],
   "source": [
    "# Grades are less obvious.  There are at least three reasonable dictionary choices:\n",
    "# lets use the one below where we go through two dictionaries using first student_id then pset_id as the keys\n",
    "#  [Student ID] |-> [Pset ID] |-> [Points]\n",
    "\n",
    "\n",
    "def empty():\n",
    "    return {\"students\": {},    # NOTE USE OF DICTIONARY, empty dics inside\n",
    "            \"psets\": {},\n",
    "            \"grades\": {}}\n",
    "db = empty()\n",
    "def addStudent(db, student_id, student_name):\n",
    "    db['students'][student_id] = student_name\n",
    "   \n",
    "def addPset(db, pset_id, pset_total_points):\n",
    "    db['psets'][pset_id] = pset_total_points\n",
    "    \n",
    "def addGrade(db, student_id, pset_id, points):\n",
    "    if student_id not in db['grades']:\n",
    "        db['grades'][student_id] = {}\n",
    "    db['grades'][student_id][pset_id] = points\n",
    "\n",
    "db = empty()\n",
    "\n",
    "db"
   ]
  },
  {
   "cell_type": "code",
   "execution_count": 31,
   "metadata": {},
   "outputs": [
    {
     "name": "stdout",
     "output_type": "stream",
     "text": [
      "{'students': {1: 'Alice', 2: 'Bob', 3: 'Charlie'}, 'psets': {1: 100, 2: 120, 3: 130}, 'grades': {1: {1: 98, 2: 108, 3: 125}, 2: {3: 115}, 3: {3: 110}}}\n"
     ]
    }
   ],
   "source": [
    "addStudent(db, 1, \"Alice\")\n",
    "addStudent(db, 2, \"Bob\")\n",
    "addStudent(db, 3, \"Charlie\")\n",
    "#          pset_id, max_score\n",
    "addPset(db, 1, 100)\n",
    "addPset(db, 2, 120)\n",
    "addPset(db, 3, 130)\n",
    "#          student_id, pset_id, value\n",
    "addGrade(db, 1, 1, 98)\n",
    "addGrade(db, 1, 2, 108)\n",
    "addGrade(db, 1, 3, 125)\n",
    "addGrade(db, 2, 3, 115)\n",
    "addGrade(db, 3, 3, 110)\n",
    "\n",
    "print(db)"
   ]
  },
  {
   "cell_type": "code",
   "execution_count": 32,
   "metadata": {},
   "outputs": [
    {
     "name": "stdout",
     "output_type": "stream",
     "text": [
      "{1: 98, 2: 108, 3: 125}\n"
     ]
    },
    {
     "data": {
      "text/plain": [
       "{'students': {1: 'Alice', 2: 'Bob', 3: 'Charlie'},\n",
       " 'psets': {1: 100, 2: 120, 3: 130},\n",
       " 'grades': {1: {1: 98, 2: 108, 3: 125}, 2: {3: 115}, 3: {3: 110}}}"
      ]
     },
     "execution_count": 32,
     "metadata": {},
     "output_type": "execute_result"
    }
   ],
   "source": [
    "def get(dict, key):\n",
    "    if key in dict:\n",
    "        return dict[key]\n",
    "    else:\n",
    "        return None\n",
    "    \n",
    "def studentGrades(db, student_id):\n",
    "    return get(db['grades'], student_id)\n",
    "\n",
    "\n",
    "print(studentGrades(db, 1))\n",
    "\n",
    "db"
   ]
  },
  {
   "cell_type": "markdown",
   "metadata": {},
   "source": [
    "# Exercise"
   ]
  },
  {
   "cell_type": "code",
   "execution_count": 33,
   "metadata": {},
   "outputs": [],
   "source": [
    "db = {'students': {1: 'Alice', 2: 'Bob', 3: 'Charlie'},\n",
    " 'psets': {1: 100, 2: 120, 3: 130},\n",
    " 'grades': {1: {1: 98, 2: 108, 3: 125}, 2: {3: 115}, 3: {3: 110}}}"
   ]
  },
  {
   "cell_type": "code",
   "execution_count": 43,
   "metadata": {},
   "outputs": [
    {
     "name": "stdout",
     "output_type": "stream",
     "text": [
      "{1: 98, 2: 108, 3: 125}\n"
     ]
    },
    {
     "ename": "KeyError",
     "evalue": "2",
     "output_type": "error",
     "traceback": [
      "\u001b[0;31m---------------------------------------------------------------------------\u001b[0m",
      "\u001b[0;31mKeyError\u001b[0m                                  Traceback (most recent call last)",
      "\u001b[0;32m<ipython-input-43-d3c1d3101079>\u001b[0m in \u001b[0;36m<module>\u001b[0;34m\u001b[0m\n\u001b[1;32m     28\u001b[0m             for student_id, student in db[\"students\"].items()]\n\u001b[1;32m     29\u001b[0m \u001b[0;34m\u001b[0m\u001b[0m\n\u001b[0;32m---> 30\u001b[0;31m \u001b[0mprint\u001b[0m\u001b[0;34m(\u001b[0m\u001b[0mfinalGrades\u001b[0m\u001b[0;34m(\u001b[0m\u001b[0mdb\u001b[0m\u001b[0;34m)\u001b[0m\u001b[0;34m)\u001b[0m\u001b[0;34m\u001b[0m\u001b[0;34m\u001b[0m\u001b[0m\n\u001b[0m",
      "\u001b[0;32m<ipython-input-43-d3c1d3101079>\u001b[0m in \u001b[0;36mfinalGrades\u001b[0;34m(db)\u001b[0m\n\u001b[1;32m     26\u001b[0m \u001b[0;32mdef\u001b[0m \u001b[0mfinalGrades\u001b[0m\u001b[0;34m(\u001b[0m\u001b[0mdb\u001b[0m\u001b[0;34m)\u001b[0m\u001b[0;34m:\u001b[0m\u001b[0;34m\u001b[0m\u001b[0;34m\u001b[0m\u001b[0m\n\u001b[1;32m     27\u001b[0m     return [{\"id\": student_id,\"name\": student,\"grade\": finalGradeOf(db, student_id)} \n\u001b[0;32m---> 28\u001b[0;31m             for student_id, student in db[\"students\"].items()]\n\u001b[0m\u001b[1;32m     29\u001b[0m \u001b[0;34m\u001b[0m\u001b[0m\n\u001b[1;32m     30\u001b[0m \u001b[0mprint\u001b[0m\u001b[0;34m(\u001b[0m\u001b[0mfinalGrades\u001b[0m\u001b[0;34m(\u001b[0m\u001b[0mdb\u001b[0m\u001b[0;34m)\u001b[0m\u001b[0;34m)\u001b[0m\u001b[0;34m\u001b[0m\u001b[0;34m\u001b[0m\u001b[0m\n",
      "\u001b[0;32m<ipython-input-43-d3c1d3101079>\u001b[0m in \u001b[0;36m<listcomp>\u001b[0;34m(.0)\u001b[0m\n\u001b[1;32m     26\u001b[0m \u001b[0;32mdef\u001b[0m \u001b[0mfinalGrades\u001b[0m\u001b[0;34m(\u001b[0m\u001b[0mdb\u001b[0m\u001b[0;34m)\u001b[0m\u001b[0;34m:\u001b[0m\u001b[0;34m\u001b[0m\u001b[0;34m\u001b[0m\u001b[0m\n\u001b[1;32m     27\u001b[0m     return [{\"id\": student_id,\"name\": student,\"grade\": finalGradeOf(db, student_id)} \n\u001b[0;32m---> 28\u001b[0;31m             for student_id, student in db[\"students\"].items()]\n\u001b[0m\u001b[1;32m     29\u001b[0m \u001b[0;34m\u001b[0m\u001b[0m\n\u001b[1;32m     30\u001b[0m \u001b[0mprint\u001b[0m\u001b[0;34m(\u001b[0m\u001b[0mfinalGrades\u001b[0m\u001b[0;34m(\u001b[0m\u001b[0mdb\u001b[0m\u001b[0;34m)\u001b[0m\u001b[0;34m)\u001b[0m\u001b[0;34m\u001b[0m\u001b[0;34m\u001b[0m\u001b[0m\n",
      "\u001b[0;32m<ipython-input-43-d3c1d3101079>\u001b[0m in \u001b[0;36mfinalGradeOf\u001b[0;34m(db, student_id)\u001b[0m\n\u001b[1;32m     20\u001b[0m \u001b[0;31m# Next, computing the final grade of a student.\u001b[0m\u001b[0;34m\u001b[0m\u001b[0;34m\u001b[0m\u001b[0;34m\u001b[0m\u001b[0m\n\u001b[1;32m     21\u001b[0m \u001b[0;32mdef\u001b[0m \u001b[0mfinalGradeOf\u001b[0m\u001b[0;34m(\u001b[0m\u001b[0mdb\u001b[0m\u001b[0;34m,\u001b[0m \u001b[0mstudent_id\u001b[0m\u001b[0;34m)\u001b[0m\u001b[0;34m:\u001b[0m\u001b[0;34m\u001b[0m\u001b[0;34m\u001b[0m\u001b[0m\n\u001b[0;32m---> 22\u001b[0;31m     \u001b[0mgrades\u001b[0m \u001b[0;34m=\u001b[0m \u001b[0mstudentGradesWeighted\u001b[0m\u001b[0;34m(\u001b[0m\u001b[0mdb\u001b[0m\u001b[0;34m,\u001b[0m \u001b[0mstudent_id\u001b[0m\u001b[0;34m)\u001b[0m  \u001b[0;31m# LIST OF GRADES\u001b[0m\u001b[0;34m\u001b[0m\u001b[0;34m\u001b[0m\u001b[0m\n\u001b[0m\u001b[1;32m     23\u001b[0m     \u001b[0;32mreturn\u001b[0m \u001b[0mround\u001b[0m\u001b[0;34m(\u001b[0m\u001b[0msum\u001b[0m\u001b[0;34m(\u001b[0m\u001b[0mgrades\u001b[0m\u001b[0;34m)\u001b[0m \u001b[0;34m/\u001b[0m \u001b[0mlen\u001b[0m\u001b[0;34m(\u001b[0m\u001b[0mgrades\u001b[0m\u001b[0;34m)\u001b[0m \u001b[0;34m*\u001b[0m \u001b[0;36m100\u001b[0m\u001b[0;34m,\u001b[0m \u001b[0;36m1\u001b[0m\u001b[0;34m)\u001b[0m\u001b[0;34m\u001b[0m\u001b[0;34m\u001b[0m\u001b[0m\n\u001b[1;32m     24\u001b[0m \u001b[0;34m\u001b[0m\u001b[0m\n",
      "\u001b[0;32m<ipython-input-43-d3c1d3101079>\u001b[0m in \u001b[0;36mstudentGradesWeighted\u001b[0;34m(db, student_id)\u001b[0m\n\u001b[1;32m     15\u001b[0m \u001b[0;32mdef\u001b[0m \u001b[0mstudentGradesWeighted\u001b[0m\u001b[0;34m(\u001b[0m\u001b[0mdb\u001b[0m\u001b[0;34m,\u001b[0m \u001b[0mstudent_id\u001b[0m\u001b[0;34m)\u001b[0m\u001b[0;34m:\u001b[0m  \u001b[0;31m# COMPLETE THIS\u001b[0m\u001b[0;34m\u001b[0m\u001b[0;34m\u001b[0m\u001b[0m\n\u001b[1;32m     16\u001b[0m     \u001b[0mgrade\u001b[0m \u001b[0;34m=\u001b[0m \u001b[0mstudentGrades\u001b[0m\u001b[0;34m(\u001b[0m\u001b[0mdb\u001b[0m\u001b[0;34m,\u001b[0m \u001b[0mstudent_id\u001b[0m\u001b[0;34m)\u001b[0m\u001b[0;34m\u001b[0m\u001b[0;34m\u001b[0m\u001b[0m\n\u001b[0;32m---> 17\u001b[0;31m     \u001b[0;32mreturn\u001b[0m \u001b[0;34m[\u001b[0m\u001b[0mgrade\u001b[0m\u001b[0;34m[\u001b[0m\u001b[0mstudent_id\u001b[0m\u001b[0;34m]\u001b[0m\u001b[0;34m/\u001b[0m\u001b[0mdb\u001b[0m\u001b[0;34m[\u001b[0m\u001b[0;34m'psets'\u001b[0m\u001b[0;34m]\u001b[0m\u001b[0;34m[\u001b[0m\u001b[0mpset_id\u001b[0m\u001b[0;34m]\u001b[0m \u001b[0;32mfor\u001b[0m \u001b[0mpset\u001b[0m \u001b[0;32min\u001b[0m \u001b[0mdb\u001b[0m\u001b[0;34m[\u001b[0m\u001b[0;34m'psets'\u001b[0m\u001b[0;34m]\u001b[0m \u001b[0;32mfor\u001b[0m \u001b[0mpset_id\u001b[0m \u001b[0;32min\u001b[0m \u001b[0mstudentGrades\u001b[0m\u001b[0;34m(\u001b[0m\u001b[0mdb\u001b[0m\u001b[0;34m,\u001b[0m\u001b[0mstudent_id\u001b[0m\u001b[0;34m)\u001b[0m\u001b[0;34m]\u001b[0m\u001b[0;34m\u001b[0m\u001b[0;34m\u001b[0m\u001b[0m\n\u001b[0m\u001b[1;32m     18\u001b[0m    \u001b[0;31m# [list of weighted scores = score / max_total_points]\u001b[0m\u001b[0;34m\u001b[0m\u001b[0;34m\u001b[0m\u001b[0;34m\u001b[0m\u001b[0m\n\u001b[1;32m     19\u001b[0m \u001b[0;34m\u001b[0m\u001b[0m\n",
      "\u001b[0;32m<ipython-input-43-d3c1d3101079>\u001b[0m in \u001b[0;36m<listcomp>\u001b[0;34m(.0)\u001b[0m\n\u001b[1;32m     15\u001b[0m \u001b[0;32mdef\u001b[0m \u001b[0mstudentGradesWeighted\u001b[0m\u001b[0;34m(\u001b[0m\u001b[0mdb\u001b[0m\u001b[0;34m,\u001b[0m \u001b[0mstudent_id\u001b[0m\u001b[0;34m)\u001b[0m\u001b[0;34m:\u001b[0m  \u001b[0;31m# COMPLETE THIS\u001b[0m\u001b[0;34m\u001b[0m\u001b[0;34m\u001b[0m\u001b[0m\n\u001b[1;32m     16\u001b[0m     \u001b[0mgrade\u001b[0m \u001b[0;34m=\u001b[0m \u001b[0mstudentGrades\u001b[0m\u001b[0;34m(\u001b[0m\u001b[0mdb\u001b[0m\u001b[0;34m,\u001b[0m \u001b[0mstudent_id\u001b[0m\u001b[0;34m)\u001b[0m\u001b[0;34m\u001b[0m\u001b[0;34m\u001b[0m\u001b[0m\n\u001b[0;32m---> 17\u001b[0;31m     \u001b[0;32mreturn\u001b[0m \u001b[0;34m[\u001b[0m\u001b[0mgrade\u001b[0m\u001b[0;34m[\u001b[0m\u001b[0mstudent_id\u001b[0m\u001b[0;34m]\u001b[0m\u001b[0;34m/\u001b[0m\u001b[0mdb\u001b[0m\u001b[0;34m[\u001b[0m\u001b[0;34m'psets'\u001b[0m\u001b[0;34m]\u001b[0m\u001b[0;34m[\u001b[0m\u001b[0mpset_id\u001b[0m\u001b[0;34m]\u001b[0m \u001b[0;32mfor\u001b[0m \u001b[0mpset\u001b[0m \u001b[0;32min\u001b[0m \u001b[0mdb\u001b[0m\u001b[0;34m[\u001b[0m\u001b[0;34m'psets'\u001b[0m\u001b[0;34m]\u001b[0m \u001b[0;32mfor\u001b[0m \u001b[0mpset_id\u001b[0m \u001b[0;32min\u001b[0m \u001b[0mstudentGrades\u001b[0m\u001b[0;34m(\u001b[0m\u001b[0mdb\u001b[0m\u001b[0;34m,\u001b[0m\u001b[0mstudent_id\u001b[0m\u001b[0;34m)\u001b[0m\u001b[0;34m]\u001b[0m\u001b[0;34m\u001b[0m\u001b[0;34m\u001b[0m\u001b[0m\n\u001b[0m\u001b[1;32m     18\u001b[0m    \u001b[0;31m# [list of weighted scores = score / max_total_points]\u001b[0m\u001b[0;34m\u001b[0m\u001b[0;34m\u001b[0m\u001b[0;34m\u001b[0m\u001b[0m\n\u001b[1;32m     19\u001b[0m \u001b[0;34m\u001b[0m\u001b[0m\n",
      "\u001b[0;31mKeyError\u001b[0m: 2"
     ]
    }
   ],
   "source": [
    "# EXERCISE TO BE COMPLETED - Make the following code work with the DB\n",
    "# A helper function that causes a dictionary lookup to return None instead of raising an exception\n",
    "def get(dict, key):\n",
    "    if key in dict:\n",
    "        return dict[key]\n",
    "    else:\n",
    "        return None\n",
    "# Our representation of grades really shines here!\n",
    "def studentGrades(db, student_id):\n",
    "    return get(db[\"grades\"], student_id)\n",
    "\n",
    "# check - get grades of student_id = 1\n",
    "print(studentGrades(db,1))  \n",
    "\n",
    "def studentGradesWeighted(db, student_id):  # COMPLETE THIS\n",
    "    grade = studentGrades(db, student_id)\n",
    "    return [grade[student_id]/db['psets'][pset_id] for pset in db['psets'] for pset_id in studentGrades(db,student_id)]\n",
    "   # [list of weighted scores = score / max_total_points]\n",
    "       \n",
    "# Next, computing the final grade of a student.\n",
    "def finalGradeOf(db, student_id):\n",
    "    grades = studentGradesWeighted(db, student_id)  # LIST OF GRADES\n",
    "    return round(sum(grades) / len(grades) * 100, 1)\n",
    "\n",
    "# Finally, computing for all students.\n",
    "def finalGrades(db):\n",
    "    return [{\"id\": student_id,\"name\": student,\"grade\": finalGradeOf(db, student_id)} \n",
    "            for student_id, student in db[\"students\"].items()]\n",
    "\n",
    "print(finalGrades(db))\n"
   ]
  },
  {
   "cell_type": "code",
   "execution_count": 36,
   "metadata": {},
   "outputs": [],
   "source": [
    "db = {'students': {1: 'Alice', 2: 'Bob', 3: 'Charlie'},\n",
    " 'psets': {1: 100, 2: 120, 3: 130},\n",
    " 'grades': {1: {1: 98, 2: 108, 3: 125}, 2: {3: 115}, 3: {3: 110}}}"
   ]
  },
  {
   "cell_type": "markdown",
   "metadata": {},
   "source": [
    "# Use redundant dictionaries"
   ]
  },
  {
   "cell_type": "code",
   "execution_count": 17,
   "metadata": {},
   "outputs": [
    {
     "name": "stdout",
     "output_type": "stream",
     "text": [
      "{'studentsById': {1: 'Alice', 2: 'Bob', 3: 'Charlie'}, 'studentsByName': {'Alice': 1, 'Bob': 2, 'Charlie': 3}, 'psets': {1: 100, 2: 120, 3: 130}, 'gradesByStudent': {1: {1: 98, 2: 108, 3: 125}, 2: {3: 115}, 3: {3: 110}}, 'gradesByPset': {1: {1: 98}, 2: {1: 108}, 3: {1: 125, 2: 115, 3: 110}}}\n"
     ]
    }
   ],
   "source": [
    "def empty():\n",
    "    return {\"studentsById\": {},\n",
    "            \"studentsByName\": {},\n",
    "            \"psets\": {},\n",
    "            \"gradesByStudent\": {},\n",
    "            \"gradesByPset\": {}}\n",
    "\n",
    "db = empty()\n",
    "def get(dict, key):\n",
    "    if key in dict:\n",
    "        return dict[key]\n",
    "    else:\n",
    "        return None\n",
    "# to add to a nested dictionary. Look at this because its very usefull\n",
    "def add2(dict1, key1, key2, value):\n",
    "    if key1 not in dict1:\n",
    "        dict1[key1] = {}\n",
    "    dict1[key1][key2] = value\n",
    "\n",
    "def addStudent(db, student_id, student_name):\n",
    "    db['studentsById'][student_id] = student_name\n",
    "    db['studentsByName'][student_name] = student_id\n",
    "    \n",
    "def addPset(db, pset_id, pset_total_points):\n",
    "    db[\"psets\"][pset_id] = pset_total_points\n",
    "    \n",
    "def addGrade(db, student_id, pset_id, points):\n",
    "    add2(db['gradesByStudent'],student_id, pset_id, points)\n",
    "    add2(db['gradesByPset'], pset_id, student_id, points)\n",
    "\n",
    "addStudent(db, 1, \"Alice\")\n",
    "addStudent(db, 2, \"Bob\")\n",
    "addStudent(db, 3, \"Charlie\")\n",
    "#          pset_id, max_score\n",
    "addPset(db, 1, 100)\n",
    "addPset(db, 2, 120)\n",
    "addPset(db, 3, 130)\n",
    "#          student_id, pset_id, value\n",
    "addGrade(db, 1, 1, 98)\n",
    "addGrade(db, 1, 2, 108)\n",
    "addGrade(db, 1, 3, 125)\n",
    "addGrade(db, 2, 3, 115)\n",
    "addGrade(db, 3, 3, 110)\n",
    "print(db)  "
   ]
  },
  {
   "cell_type": "code",
   "execution_count": 18,
   "metadata": {},
   "outputs": [
    {
     "name": "stdout",
     "output_type": "stream",
     "text": [
      "{1: 125, 2: 115, 3: 110}\n"
     ]
    }
   ],
   "source": [
    "# get grades on Pset\n",
    "def getGradesOnPset(db, pset_id):\n",
    "    return get(db['gradesByPset'], pset_id)\n",
    "print(getGradesOnPset(db,3))"
   ]
  },
  {
   "cell_type": "code",
   "execution_count": 23,
   "metadata": {},
   "outputs": [
    {
     "name": "stdout",
     "output_type": "stream",
     "text": [
      "{1: 125, 2: 115, 3: 110}\n"
     ]
    }
   ],
   "source": [
    "# Exercise calculate from db and return result\n",
    "def gradesOnPset(db, pset_id):\n",
    "    # ENTER CODE here to complete the function\n",
    "    return get(db['gradesByPset'], pset_id)\n",
    "print(gradesOnPset(db,3))\n"
   ]
  },
  {
   "cell_type": "code",
   "execution_count": 24,
   "metadata": {},
   "outputs": [
    {
     "name": "stdout",
     "output_type": "stream",
     "text": [
      "{1: 98, 2: 108, 3: 125}\n"
     ]
    }
   ],
   "source": [
    "def studentGrades(db, student_id):\n",
    "    # ENTER CODE HERE\n",
    "    return get(db['gradesByStudent'], student_id)   \n",
    "print(studentGrades(db,1))"
   ]
  },
  {
   "cell_type": "code",
   "execution_count": null,
   "metadata": {},
   "outputs": [],
   "source": []
  },
  {
   "cell_type": "code",
   "execution_count": null,
   "metadata": {},
   "outputs": [],
   "source": []
  }
 ],
 "metadata": {
  "kernelspec": {
   "display_name": "Python 3",
   "language": "python",
   "name": "python3"
  },
  "language_info": {
   "codemirror_mode": {
    "name": "ipython",
    "version": 3
   },
   "file_extension": ".py",
   "mimetype": "text/x-python",
   "name": "python",
   "nbconvert_exporter": "python",
   "pygments_lexer": "ipython3",
   "version": "3.7.4"
  }
 },
 "nbformat": 4,
 "nbformat_minor": 2
}
